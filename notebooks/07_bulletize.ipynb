{
 "cells": [
  {
   "cell_type": "code",
   "execution_count": 13,
   "metadata": {},
   "outputs": [],
   "source": [
    "from promptsmith.dspy_init import get_dspy\n",
    "dspy, lm = get_dspy()"
   ]
  },
  {
   "cell_type": "code",
   "execution_count": 14,
   "metadata": {},
   "outputs": [],
   "source": [
    "from promptsmith.tasks.bulletize_text import BulletizeText\n",
    "\n",
    "text_to_bulletize = \"\"\"\n",
    "The first question in this study stated: What is the strength and direction of the relationship between faculty's perceptions of the importance of course design, communication, time management, and technical competency, and their ability to teach online? To address this question, descriptive statistics (mean and standard deviation) by individual competency items of each of the four competency dimensions: course design, course communication, time management, and technical competency,  were reported in Table 2 on page 23. Most of the items in each competency were rated high for both constructs, Importance, and Ability.\n",
    "The items manage grades online (M = 4.73) and creating online assignments (M = 4.68)\n",
    "\n",
    "were rated the highest in the course design competency. In the course communication competency, responding to student questions promptly (M = 4.79) and providing feedback on assignments (M = 4.65) were rated the highest. In time management, scheduling time to design the course prior to delivery (M = 4.65) and spending weekly hours to grade assignments (M = 42 4.54) were rated the highest. In the technical competency, complete basic computer operations (M = 4.74) and navigating within the course in the learning management system (M = 4.67) were rated the highest. As the findings show that competencies in importance for course design and course communication were scored the highest, more support is likely needed for faculty in such competencies.\n",
    "In the course design competency, manage grades online (M = 4.61) and create online assignments (M = 4.60) were rated the highest items. In course communication, sending announcements/email reminders to course participants (M = 4.82), and use email to communicate with the learners (M = 4.79) were rated the highest items. In time management, schedule weekly hours to facilitate the online course (M = 4.39) and spend weekly hours to grade assignments (M = 4.37) were rated the highest. The complete basic computer operations item (M = 4.64) and navigate within the course in the learning management system item (M = 4.36) were rated the highest in the technical competency. Participants in this study perceived that the top competencies of perception of Importance are similar to the top competencies that faculty perceive as they were able to perform. This Dimension and one of the top competencies in the Time Management Dimension.\n",
    "\n",
    "In testing the statistical significance of the relationship between self-reported perceptions of the Importance of online teaching competencies and self-reported Ability to teach online, there was a weak positive relationship between the two constructs, r ( 223) = .249, p = <.001.\n",
    "The second question of this study stated: What demographic factors are related to faculty's perceptions of the importance of course design, communication, time management, and technical competency, and their ability to teach online? In order to address this research question, the demographic information collected from the survey was analyzed. Demographics included participant gender, academic rank, online teaching methods, and level taught. The analysis of the descriptive statistics (mean and standard deviation) of demographic data were presented in Table 5 of page 32, in Chapter IV. Results from ANOVA showed a significant difference in gender and level taught on importance of online teaching competencies. Results from ANOVA also showed no significant differences in gender, academic rank, and online teaching methods, but showed a significant difference in the level taught based on their perceptions of ability to teach online. No significant differences were found in other demographic factors, such as academic rank and online teaching methods. Below is a detailed analysis of the demographic information collected.\n",
    "\"\"\"\n",
    "\n",
    "bulletize = dspy.ChainOfThought(BulletizeText)\n",
    "bulletized_text = bulletize(input_text=text_to_bulletize)"
   ]
  },
  {
   "cell_type": "code",
   "execution_count": 15,
   "metadata": {},
   "outputs": [
    {
     "name": "stdout",
     "output_type": "stream",
     "text": [
      "📝 Original Text:\n",
      "----------------------\n",
      "\n",
      "The first question in this study stated: What is the strength and direction of the relationship between faculty's perceptions of the importance of course design, communication, time management, and technical competency, and their ability to teach online? To address this question, descriptive statistics (mean and standard deviation) by individual competency items of each of the four competency dimensions: course design, course communication, time management, and technical competency,  were reported in Table 2 on page 23. Most of the items in each competency were rated high for both constructs, Importance, and Ability.\n",
      "The items manage grades online (M = 4.73) and creating online assignments (M = 4.68)\n",
      "\n",
      "were rated the highest in the course design competency. In the course communication competency, responding to student questions promptly (M = 4.79) and providing feedback on assignments (M = 4.65) were rated the highest. In time management, scheduling time to design the course prior to delivery (M = 4.65) and spending weekly hours to grade assignments (M = 42 4.54) were rated the highest. In the technical competency, complete basic computer operations (M = 4.74) and navigating within the course in the learning management system (M = 4.67) were rated the highest. As the findings show that competencies in importance for course design and course communication were scored the highest, more support is likely needed for faculty in such competencies.\n",
      "In the course design competency, manage grades online (M = 4.61) and create online assignments (M = 4.60) were rated the highest items. In course communication, sending announcements/email reminders to course participants (M = 4.82), and use email to communicate with the learners (M = 4.79) were rated the highest items. In time management, schedule weekly hours to facilitate the online course (M = 4.39) and spend weekly hours to grade assignments (M = 4.37) were rated the highest. The complete basic computer operations item (M = 4.64) and navigate within the course in the learning management system item (M = 4.36) were rated the highest in the technical competency. Participants in this study perceived that the top competencies of perception of Importance are similar to the top competencies that faculty perceive as they were able to perform. This Dimension and one of the top competencies in the Time Management Dimension.\n",
      "\n",
      "In testing the statistical significance of the relationship between self-reported perceptions of the Importance of online teaching competencies and self-reported Ability to teach online, there was a weak positive relationship between the two constructs, r ( 223) = .249, p = <.001.\n",
      "The second question of this study stated: What demographic factors are related to faculty's perceptions of the importance of course design, communication, time management, and technical competency, and their ability to teach online? In order to address this research question, the demographic information collected from the survey was analyzed. Demographics included participant gender, academic rank, online teaching methods, and level taught. The analysis of the descriptive statistics (mean and standard deviation) of demographic data were presented in Table 5 of page 32, in Chapter IV. Results from ANOVA showed a significant difference in gender and level taught on importance of online teaching competencies. Results from ANOVA also showed no significant differences in gender, academic rank, and online teaching methods, but showed a significant difference in the level taught based on their perceptions of ability to teach online. No significant differences were found in other demographic factors, such as academic rank and online teaching methods. Below is a detailed analysis of the demographic information collected.\n",
      "\n",
      "----------------------\n",
      "\n",
      "\n",
      "📘 Restructured Text:\n",
      "----------------------\n",
      "- The study investigates the relationship between faculty perceptions of online teaching competencies and their ability to teach online.\n",
      "- Descriptive statistics (mean and standard deviation) for competencies are reported in Table 2.\n",
      "- High ratings were found for both importance and ability in course design, communication, time management, and technical competency.\n",
      "- Highest-rated items in course design: \n",
      "  - Manage grades online (M = 4.73)\n",
      "  - Create online assignments (M = 4.68)\n",
      "- Highest-rated items in course communication: \n",
      "  - Responding to student questions promptly (M = 4.79)\n",
      "  - Providing feedback on assignments (M = 4.65)\n",
      "- Highest-rated items in time management: \n",
      "  - Scheduling time to design the course (M = 4.65)\n",
      "  - Spending weekly hours to grade assignments (M = 4.54)\n",
      "- Highest-rated items in technical competency: \n",
      "  - Complete basic computer operations (M = 4.74)\n",
      "  - Navigating within the learning management system (M = 4.67)\n",
      "- Competencies in course design and communication were perceived as most important, indicating a need for more faculty support in these areas.\n",
      "- A weak positive relationship was found between perceived importance and ability to teach online (r(223) = .249, p < .001).\n",
      "- The study also examines demographic factors such as gender, academic rank, online teaching methods, and level taught.\n",
      "- ANOVA results showed significant differences in gender and level taught regarding perceptions of online teaching competencies.\n",
      "- No significant differences were found in academic rank and online teaching methods related to perceptions of ability to teach online.\n",
      "----------------------\n"
     ]
    }
   ],
   "source": [
    "print(\"📝 Original Text:\")\n",
    "print(\"----------------------\")\n",
    "print(text_to_bulletize)\n",
    "print(\"----------------------\")\n",
    "\n",
    "print(\"\\n\\n📘 Restructured Text:\")\n",
    "print(\"----------------------\")\n",
    "print(bulletized_text.output_text)\n",
    "print(\"----------------------\")"
   ]
  },
  {
   "cell_type": "code",
   "execution_count": 18,
   "metadata": {},
   "outputs": [],
   "source": [
    "bulletized_text_2 = \"\"\"\n",
    "### Research Question 1: Relationship Between Perceived Importance and Ability\n",
    "\n",
    "* **Descriptive stats** (means and SDs) reported for:\n",
    "\n",
    "  * Course design\n",
    "  * Course communication\n",
    "  * Time management\n",
    "  * Technical competency\n",
    "\n",
    "* **Highest-rated items by competency – Importance**:\n",
    "\n",
    "  * *Course Design*:\n",
    "\n",
    "    * Manage grades online (M = 4.73)\n",
    "    * Create online assignments (M = 4.68)\n",
    "  * *Course Communication*:\n",
    "\n",
    "    * Respond to student questions promptly (M = 4.79)\n",
    "    * Provide feedback on assignments (M = 4.65)\n",
    "  * *Time Management*:\n",
    "\n",
    "    * Schedule time to design course (M = 4.65)\n",
    "    * Spend weekly hours grading (M = 4.54)\n",
    "  * *Technical Competency*:\n",
    "\n",
    "    * Complete basic computer operations (M = 4.74)\n",
    "    * Navigate LMS (M = 4.67)\n",
    "\n",
    "* **Highest-rated items by competency – Ability**:\n",
    "\n",
    "  * *Course Design*:\n",
    "\n",
    "    * Manage grades online (M = 4.61)\n",
    "    * Create online assignments (M = 4.60)\n",
    "  * *Course Communication*:\n",
    "\n",
    "    * Send announcements/reminders (M = 4.82)\n",
    "    * Use email to communicate (M = 4.79)\n",
    "  * *Time Management*:\n",
    "\n",
    "    * Schedule weekly hours to facilitate course (M = 4.39)\n",
    "    * Spend weekly hours grading (M = 4.37)\n",
    "  * *Technical Competency*:\n",
    "\n",
    "    * Complete basic computer operations (M = 4.64)\n",
    "    * Navigate LMS (M = 4.36)\n",
    "\n",
    "* **Overall finding**:\n",
    "  Top competencies rated high for both perceived importance and ability.\n",
    "\n",
    "* **Statistical relationship**:\n",
    "  Weak positive correlation between importance and ability, *r*(223) = .249, *p* < .001\n",
    "\n",
    "---\n",
    "\n",
    "### Research Question 2: Demographic Factors and Competency Perceptions\n",
    "\n",
    "* **Demographic variables analyzed**:\n",
    "  Gender, academic rank, online teaching methods, level taught\n",
    "* **ANOVA results – Importance**:\n",
    "\n",
    "  * Significant differences: Gender, Level taught\n",
    "  * No significant differences: Academic rank, Online teaching methods\n",
    "* **ANOVA results – Ability**:\n",
    "\n",
    "  * Significant difference: Level taught\n",
    "  * No significant differences: Gender, Academic rank, Online teaching methods\n",
    "\"\"\""
   ]
  },
  {
   "cell_type": "code",
   "execution_count": 19,
   "metadata": {},
   "outputs": [],
   "source": [
    "from promptsmith.judges.ensemble_judge import EnsembleJudge\n",
    "import os\n",
    "\n",
    "judge_path = os.path.abspath(\"../promptsmith/judges/judge_bulletize_text.yaml\")\n",
    "\n",
    "judge = EnsembleJudge(judge_path)\n",
    "verdict = judge(input_text=text_to_bulletize, output_text=bulletized_text_2)"
   ]
  },
  {
   "cell_type": "code",
   "execution_count": 20,
   "metadata": {},
   "outputs": [
    {
     "name": "stdout",
     "output_type": "stream",
     "text": [
      "\n",
      "📊 Evaluation Results:\n",
      "----------------------\n",
      "\n",
      "🌟 Overall Score: 0.940\n",
      "\n",
      "### Bullet Structure Analysis (score=1.00, weight=0.3)\n",
      "The output text is well-structured as a bullet-point list. It begins with clear headings for each research question, followed by bullet points that effectively summarize the findings. Each bullet point represents a single, coherent idea, and the sub-bullets provide additional details without cluttering the main points. The use of consistent bullet styles and indentation enhances readability. Overall, the formatting adheres to the conventions of bullet-point lists, making it easy to follow the information presented.\n",
      "\n",
      "### Coverage Analysis (score=1.00, weight=0.3)\n",
      "The output text effectively captures the key ideas from the original input. It summarizes the findings related to the first research question, detailing the descriptive statistics for each competency area and highlighting the highest-rated items for both perceived importance and ability. The statistical relationship between the two constructs is also included, maintaining the original's emphasis on the weak positive correlation. \n",
      "\n",
      "For the second research question, the output outlines the demographic factors analyzed and summarizes the ANOVA results, indicating where significant differences were found. \n",
      "\n",
      "Overall, all major points from the original text are preserved, and the output remains faithful to the scope of the original content, even though it is more condensed. There are no significant ideas missing or glossed over.\n",
      "\n",
      "### Focus Relevance Analysis (score=1.00, weight=0.2)\n",
      "The restructured text effectively maintains focus on the original study's findings regarding the relationship between faculty perceptions of online teaching competencies and their ability to teach online. It succinctly summarizes the key points, including descriptive statistics for each competency, the highest-rated items, and the statistical relationship between perceived importance and ability. The organization into sections for each research question enhances clarity and relevance. There are no off-topic sentences or unnecessary filler content, ensuring that all information presented is directly related to the original text's main ideas. Overall, the rewrite is concise and relevant, adhering closely to the original message.\n",
      "\n",
      "### Redundancy Analysis (score=0.70, weight=0.2)\n",
      "The output text contains some redundancy, particularly in the presentation of the highest-rated items for both perceived importance and ability. For example, the items \"Manage grades online\" and \"Create online assignments\" are repeated in both sections, which could have been consolidated to avoid repetition. Additionally, the phrases \"spend weekly hours grading\" and \"schedule weekly hours\" appear in both the importance and ability sections, leading to unnecessary verbosity. The overall findings and statistical relationship are also reiterated, which could have been summarized more succinctly. This repetition makes the text longer without adding significant new information.\n",
      "\n"
     ]
    }
   ],
   "source": [
    "display_verdict(verdict)"
   ]
  },
  {
   "cell_type": "code",
   "execution_count": 16,
   "metadata": {},
   "outputs": [],
   "source": [
    "from promptsmith.judges.ensemble_judge import EnsembleJudge\n",
    "import os\n",
    "\n",
    "judge_path = os.path.abspath(\"../promptsmith/judges/judge_bulletize_text.yaml\")\n",
    "\n",
    "judge = EnsembleJudge(judge_path)\n",
    "verdict = judge(input_text=text_to_bulletize, output_text=bulletized_text.output_text)"
   ]
  },
  {
   "cell_type": "code",
   "execution_count": 17,
   "metadata": {},
   "outputs": [
    {
     "name": "stdout",
     "output_type": "stream",
     "text": [
      "\n",
      "📊 Evaluation Results:\n",
      "----------------------\n",
      "\n",
      "🌟 Overall Score: 0.910\n",
      "\n",
      "### Bullet Structure Analysis (score=1.00, weight=0.3)\n",
      "The output text is well-structured as a bullet list. Each bullet point begins with a dash, indicating a clear list format. The points represent coherent ideas related to the study's findings, with each bullet focusing on a specific aspect of the research. The sub-bullets under the highest-rated items in each competency category are also formatted correctly, maintaining visual separation and consistent styling. Overall, the bullet structure is clear and effectively communicates the information.\n",
      "\n",
      "### Coverage Analysis (score=0.90, weight=0.3)\n",
      "The output text captures the main ideas from the input text effectively. It summarizes the study's focus on the relationship between faculty perceptions of online teaching competencies and their ability to teach online, as well as the descriptive statistics for each competency area. The highest-rated items in course design, communication, time management, and technical competency are included, along with the indication of a need for more faculty support in course design and communication. The weak positive relationship between perceived importance and ability is also mentioned. Additionally, the demographic factors analyzed and the results of the ANOVA are summarized accurately. However, the output does not explicitly mention the specific ratings for the second set of highest-rated items in each competency area, which could be considered a minor omission. Overall, the key ideas are well-preserved.\n",
      "\n",
      "### Focus Relevance Analysis (score=1.00, weight=0.2)\n",
      "The restructured text effectively summarizes the key findings and details from the original input. It maintains focus on the main ideas, such as the relationship between faculty perceptions of online teaching competencies and their ability to teach online, as well as the demographic factors analyzed. Each bullet point corresponds to specific data and insights presented in the original text, ensuring relevance and clarity. There are no off-topic sentences or unnecessary filler content, and the essential statistics and findings are preserved. Overall, the rewrite stays closely aligned with the original message and provides a clear overview of the study's results.\n",
      "\n",
      "### Redundancy Analysis (score=0.70, weight=0.2)\n",
      "The output text contains some redundancy, particularly in the repeated mention of the highest-rated items for each competency area. For example, the output lists the highest-rated items in course design, communication, time management, and technical competency, which were also detailed in the input text. Additionally, the mention of the need for more faculty support in course design and communication is reiterated without adding new information. This could be simplified by summarizing the highest-rated items in a more concise manner and combining similar points about faculty support into a single statement. Overall, while the output captures the main points, it could be more succinct by avoiding the repetition of specific ratings and findings.\n",
      "\n"
     ]
    }
   ],
   "source": [
    "from helpers import display_verdict\n",
    "display_verdict(verdict)"
   ]
  },
  {
   "cell_type": "code",
   "execution_count": 21,
   "metadata": {},
   "outputs": [
    {
     "name": "stdout",
     "output_type": "stream",
     "text": [
      "🔍 Summary of Differences:\n",
      "1. **Organization**: The output text is divided into two main sections with clear headings for each research question, while the input text is presented as a continuous narrative.\n",
      "2. **Clarity and Readability**: The output uses bullet points to list items, making it easier to read and understand compared to the original text's dense paragraphs.\n",
      "3. **Conciseness**: The output summarizes findings and statistical relationships more succinctly, whereas the input text provides more detailed explanations that may overwhelm the reader.\n",
      "4. **Emphasis on Findings**: The output highlights the overall findings and statistical relationships in a separate section, which is less emphasized in the original text.\n"
     ]
    }
   ],
   "source": [
    "from promptsmith.tasks.restructure_delta import RestructureDelta\n",
    "\n",
    "summarize_differences = dspy.ChainOfThought(RestructureDelta)\n",
    "result = summarize_differences(input_text=text_to_bulletize, output_text=bulletized_text_2)\n",
    "\n",
    "print(\"🔍 Summary of Differences:\")\n",
    "print(result.summary_of_differences)"
   ]
  }
 ],
 "metadata": {
  "kernelspec": {
   "display_name": "venv",
   "language": "python",
   "name": "python3"
  },
  "language_info": {
   "codemirror_mode": {
    "name": "ipython",
    "version": 3
   },
   "file_extension": ".py",
   "mimetype": "text/x-python",
   "name": "python",
   "nbconvert_exporter": "python",
   "pygments_lexer": "ipython3",
   "version": "3.9.6"
  }
 },
 "nbformat": 4,
 "nbformat_minor": 2
}
