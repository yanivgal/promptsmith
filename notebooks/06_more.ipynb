{
 "cells": [
  {
   "cell_type": "code",
   "execution_count": 13,
   "metadata": {},
   "outputs": [],
   "source": [
    "from promptsmith.dspy_init import get_dspy\n",
    "dspy, lm = get_dspy()"
   ]
  },
  {
   "cell_type": "code",
   "execution_count": 14,
   "metadata": {},
   "outputs": [],
   "source": [
    "from promptsmith.tasks.restructure_text import RestructureText\n",
    "\n",
    "text_to_restructure = \"\"\"\n",
    "The first question in this study stated: What is the strength and direction of the relationship between faculty's perceptions of the importance of course design, communication, time management, and technical competency, and their ability to teach online? To address this question, descriptive statistics (mean and standard deviation) by individual competency items of each of the four competency dimensions: course design, course communication, time management, and technical competency,  were reported in Table 2 on page 23. Most of the items in each competency were rated high for both constructs, Importance, and Ability.\n",
    "The items manage grades online (M = 4.73) and creating online assignments (M = 4.68)\n",
    "\n",
    "were rated the highest in the course design competency. In the course communication competency, responding to student questions promptly (M = 4.79) and providing feedback on assignments (M = 4.65) were rated the highest. In time management, scheduling time to design the course prior to delivery (M = 4.65) and spending weekly hours to grade assignments (M = 42 4.54) were rated the highest. In the technical competency, complete basic computer operations (M = 4.74) and navigating within the course in the learning management system (M = 4.67) were rated the highest. As the findings show that competencies in importance for course design and course communication were scored the highest, more support is likely needed for faculty in such competencies.\n",
    "In the course design competency, manage grades online (M = 4.61) and create online assignments (M = 4.60) were rated the highest items. In course communication, sending announcements/email reminders to course participants (M = 4.82), and use email to communicate with the learners (M = 4.79) were rated the highest items. In time management, schedule weekly hours to facilitate the online course (M = 4.39) and spend weekly hours to grade assignments (M = 4.37) were rated the highest. The complete basic computer operations item (M = 4.64) and navigate within the course in the learning management system item (M = 4.36) were rated the highest in the technical competency. Participants in this study perceived that the top competencies of perception of Importance are similar to the top competencies that faculty perceive as they were able to perform. This Dimension and one of the top competencies in the Time Management Dimension.\n",
    "\n",
    "In testing the statistical significance of the relationship between self-reported perceptions of the Importance of online teaching competencies and self-reported Ability to teach online, there was a weak positive relationship between the two constructs, r ( 223) = .249, p = <.001.\n",
    "The second question of this study stated: What demographic factors are related to faculty's perceptions of the importance of course design, communication, time management, and technical competency, and their ability to teach online? In order to address this research question, the demographic information collected from the survey was analyzed. Demographics included participant gender, academic rank, online teaching methods, and level taught. The analysis of the descriptive statistics (mean and standard deviation) of demographic data were presented in Table 5 of page 32, in Chapter IV. Results from ANOVA showed a significant difference in gender and level taught on importance of online teaching competencies. Results from ANOVA also showed no significant differences in gender, academic rank, and online teaching methods, but showed a significant difference in the level taught based on their perceptions of ability to teach online. No significant differences were found in other demographic factors, such as academic rank and online teaching methods. Below is a detailed analysis of the demographic information collected.\n",
    "\"\"\"\n",
    "\n",
    "restructure = dspy.ChainOfThought(RestructureText)\n",
    "restructured_text = restructure(input_text=text_to_restructure)"
   ]
  },
  {
   "cell_type": "code",
   "execution_count": 15,
   "metadata": {},
   "outputs": [
    {
     "name": "stdout",
     "output_type": "stream",
     "text": [
      "📝 Original Text:\n",
      "----------------------\n",
      "\n",
      "The first question in this study stated: What is the strength and direction of the relationship between faculty's perceptions of the importance of course design, communication, time management, and technical competency, and their ability to teach online? To address this question, descriptive statistics (mean and standard deviation) by individual competency items of each of the four competency dimensions: course design, course communication, time management, and technical competency,  were reported in Table 2 on page 23. Most of the items in each competency were rated high for both constructs, Importance, and Ability.\n",
      "The items manage grades online (M = 4.73) and creating online assignments (M = 4.68)\n",
      "\n",
      "were rated the highest in the course design competency. In the course communication competency, responding to student questions promptly (M = 4.79) and providing feedback on assignments (M = 4.65) were rated the highest. In time management, scheduling time to design the course prior to delivery (M = 4.65) and spending weekly hours to grade assignments (M = 42 4.54) were rated the highest. In the technical competency, complete basic computer operations (M = 4.74) and navigating within the course in the learning management system (M = 4.67) were rated the highest. As the findings show that competencies in importance for course design and course communication were scored the highest, more support is likely needed for faculty in such competencies.\n",
      "In the course design competency, manage grades online (M = 4.61) and create online assignments (M = 4.60) were rated the highest items. In course communication, sending announcements/email reminders to course participants (M = 4.82), and use email to communicate with the learners (M = 4.79) were rated the highest items. In time management, schedule weekly hours to facilitate the online course (M = 4.39) and spend weekly hours to grade assignments (M = 4.37) were rated the highest. The complete basic computer operations item (M = 4.64) and navigate within the course in the learning management system item (M = 4.36) were rated the highest in the technical competency. Participants in this study perceived that the top competencies of perception of Importance are similar to the top competencies that faculty perceive as they were able to perform. This Dimension and one of the top competencies in the Time Management Dimension.\n",
      "\n",
      "In testing the statistical significance of the relationship between self-reported perceptions of the Importance of online teaching competencies and self-reported Ability to teach online, there was a weak positive relationship between the two constructs, r ( 223) = .249, p = <.001.\n",
      "The second question of this study stated: What demographic factors are related to faculty's perceptions of the importance of course design, communication, time management, and technical competency, and their ability to teach online? In order to address this research question, the demographic information collected from the survey was analyzed. Demographics included participant gender, academic rank, online teaching methods, and level taught. The analysis of the descriptive statistics (mean and standard deviation) of demographic data were presented in Table 5 of page 32, in Chapter IV. Results from ANOVA showed a significant difference in gender and level taught on importance of online teaching competencies. Results from ANOVA also showed no significant differences in gender, academic rank, and online teaching methods, but showed a significant difference in the level taught based on their perceptions of ability to teach online. No significant differences were found in other demographic factors, such as academic rank and online teaching methods. Below is a detailed analysis of the demographic information collected.\n",
      "\n",
      "----------------------\n",
      "\n",
      "\n",
      "📘 Restructured Text:\n",
      "----------------------\n",
      "# Understanding Faculty Perceptions of Online Teaching Competencies\n",
      "\n",
      "In the evolving landscape of online education, understanding faculty perceptions of teaching competencies is crucial. This study explores the relationship between faculty's views on the importance of course design, communication, time management, and technical skills, and their self-reported ability to teach online. \n",
      "\n",
      "## Key Competencies in Online Teaching\n",
      "\n",
      "The study identified four main competency dimensions: course design, course communication, time management, and technical competency. Descriptive statistics revealed that faculty rated their importance and ability highly across these areas. \n",
      "\n",
      "In **course design**, the highest-rated competencies included managing grades online (M = 4.73) and creating online assignments (M = 4.68). For **course communication**, responding to student questions promptly (M = 4.79) and providing feedback on assignments (M = 4.65) were rated the highest. \n",
      "\n",
      "When it comes to **time management**, faculty emphasized the importance of scheduling time to design the course prior to delivery (M = 4.65) and dedicating weekly hours to grade assignments (M = 4.54). In the realm of **technical competency**, the ability to perform basic computer operations (M = 4.74) and navigate the learning management system (M = 4.67) were highlighted as essential skills.\n",
      "\n",
      "The findings suggest that while faculty perceive course design and communication as critical, they may require additional support in these areas to enhance their teaching effectiveness.\n",
      "\n",
      "## Relationship Between Importance and Ability\n",
      "\n",
      "The study also examined the statistical significance of the relationship between faculty's perceived importance of online teaching competencies and their self-reported ability to teach online. The results indicated a weak positive correlation (r(223) = .249, p < .001), suggesting that as faculty recognize the importance of these competencies, their confidence in their ability to teach online also increases.\n",
      "\n",
      "## Demographic Influences on Perceptions\n",
      "\n",
      "The second research question focused on the demographic factors influencing faculty perceptions of online teaching competencies. The analysis included variables such as gender, academic rank, online teaching methods, and the level taught. \n",
      "\n",
      "Results from ANOVA indicated significant differences in perceptions based on gender and the level taught, while no significant differences were found regarding academic rank or online teaching methods. This highlights the complexity of how demographic factors can shape faculty perceptions of their teaching abilities.\n",
      "\n",
      "## Conclusion\n",
      "\n",
      "In summary, this study sheds light on the perceptions of faculty regarding essential competencies for online teaching. While many faculty members feel confident in their abilities, particularly in course design and communication, there is a clear need for ongoing support and development in these areas. Understanding the demographic influences on these perceptions can further inform strategies to enhance online teaching effectiveness.\n",
      "----------------------\n"
     ]
    }
   ],
   "source": [
    "print(\"📝 Original Text:\")\n",
    "print(\"----------------------\")\n",
    "print(text_to_restructure)\n",
    "print(\"----------------------\")\n",
    "\n",
    "print(\"\\n\\n📘 Restructured Text:\")\n",
    "print(\"----------------------\")\n",
    "print(restructured_text.output_text)\n",
    "print(\"----------------------\")"
   ]
  },
  {
   "cell_type": "code",
   "execution_count": 16,
   "metadata": {},
   "outputs": [],
   "source": [
    "from promptsmith.judges.ensemble_judge import EnsembleJudge\n",
    "import os\n",
    "\n",
    "judge_path = os.path.abspath(\"../promptsmith/judges/judge_restructure_text.yaml\")\n",
    "\n",
    "judge = EnsembleJudge(judge_path)\n",
    "verdict = judge(input_text=text_to_restructure, output_text=restructured_text.output_text)"
   ]
  },
  {
   "cell_type": "code",
   "execution_count": 17,
   "metadata": {},
   "outputs": [
    {
     "name": "stdout",
     "output_type": "stream",
     "text": [
      "\n",
      "📊 Evaluation Results:\n",
      "----------------------\n",
      "\n",
      "🌟 Overall Score: 0.887\n",
      "\n",
      "### Focus Relevance Analysis (score=1.00, weight=0.25)\n",
      "The restructured text effectively maintains focus on the original study's findings regarding faculty perceptions of online teaching competencies. It summarizes the key points, including the identified competency dimensions and their respective ratings, while also addressing the relationship between perceived importance and self-reported ability. The demographic analysis is presented clearly, highlighting significant findings without introducing unrelated content. Overall, the rewrite stays relevant to the original message and avoids unnecessary filler or broad generalizations.\n",
      "\n",
      "### Meaning Analysis (score=0.85, weight=0.25)\n",
      "The output text effectively preserves the essential meaning of the original input text while restructuring it for clarity and readability. Key ideas, such as the relationship between faculty perceptions of teaching competencies and their self-reported abilities, are maintained. The specific competencies and their ratings are accurately represented, and the statistical findings regarding the correlation between perceived importance and ability are preserved. \n",
      "\n",
      "However, some details, such as the specific mention of the descriptive statistics tables (Table 2 and Table 5) and the exact wording of the research questions, are omitted or generalized. While these omissions do not significantly alter the overall meaning, they do remove some specificity that could be important for a detailed understanding of the study's methodology and findings. \n",
      "\n",
      "Overall, the changes made in the output text are acceptable as they enhance readability without distorting the core message of the original text.\n",
      "\n",
      "### Readability Analysis (score=0.85, weight=0.1)\n",
      "The text is generally easy to read due to its clear structure and logical organization. Each section is well-defined with headings that guide the reader through the content. The sentences are mostly straightforward, using accessible vocabulary that avoids unnecessary complexity. The use of bullet points and statistical data is effective in conveying information without overwhelming the reader. However, some readers may find the statistical references (like \"M = 4.73\") slightly challenging if they are not familiar with such notation. Overall, the flow from one idea to the next is smooth, making it easy to follow the argument and findings of the study.\n",
      "\n",
      "### Structure Analysis (score=0.85, weight=0.4)\n",
      "The text is well-structured and organized, with a clear title that reflects the topic. The introduction effectively summarizes the overall idea of the study, setting the stage for the detailed exploration of faculty perceptions. Each section is logically divided, focusing on specific aspects of the research, such as key competencies, the relationship between importance and ability, and demographic influences. The use of headings helps guide the reader through the content, making it easier to follow. The language is mostly clear, though some technical terms could be simplified further for broader accessibility. Overall, the structure supports comprehension and engagement with the material.\n",
      "\n"
     ]
    }
   ],
   "source": [
    "from helpers import display_verdict\n",
    "display_verdict(verdict)"
   ]
  },
  {
   "cell_type": "markdown",
   "metadata": {},
   "source": [
    "version 1:\n",
    "\n",
    "📊 Evaluation Results:\n",
    "----------------------\n",
    "\n",
    "🌟 Overall Score: 0.883\n",
    "\n",
    "### Focus Relevance Analysis (score=0.90, weight=0.25)\n",
    "The restructured text maintains a strong focus on the original study's findings regarding faculty perceptions of online teaching competencies. It effectively summarizes the key points, including the relationship between perceived importance and ability, as well as the demographic factors analyzed. The output avoids unnecessary filler and remains relevant to the original content, clearly presenting the statistical results and their implications. However, it could have included more specific details about the demographic analysis to enhance completeness. Overall, the rewrite stays closely aligned with the main ideas of the original text.\n",
    "\n",
    "### Meaning Analysis (score=0.95, weight=0.25)\n",
    "The output text effectively preserves the essential meaning of the original input text. Key ideas, such as the relationship between faculty perceptions of online teaching competencies and their self-reported abilities, are maintained. The specific competencies and their ratings are accurately reflected, including the highest-rated items in each category. The mention of the weak positive relationship between perceived importance and ability is also retained, along with the demographic factors analyzed in the study.\n",
    "\n",
    "However, some details from the original text, such as the specific page numbers for tables and the exact wording of certain phrases, have been omitted or rephrased. While these changes do not distort the overall meaning, they do result in a slight loss of specificity. The restructuring has made the text more concise and readable, which is acceptable as long as the core information remains intact.\n",
    "\n",
    "Overall, the output text captures the main findings and details of the study while improving clarity and flow, leading to a high preservation of meaning.\n",
    "\n",
    "### Readability Analysis (score=0.80, weight=0.1)\n",
    "The text is relatively easy to read due to its clear structure and logical flow. Each paragraph addresses a specific aspect of the study, making it easy for the reader to follow the progression of ideas. The use of headings helps to organize the content, and the sentences are mostly straightforward, avoiding overly complex vocabulary. However, the inclusion of statistical data and technical terms may pose a slight challenge for readers unfamiliar with research methodologies. Overall, the text maintains a balance between being informative and accessible, which contributes positively to its readability.\n",
    "\n",
    "### Structure Analysis (score=0.85, weight=0.4)\n",
    "The text is well-structured and organized, with a clear title that reflects the study's focus. The introduction effectively summarizes the main idea of the research, providing context for the reader. The body of the text is divided into logical sections, each addressing specific aspects of the study, such as the relationship between faculty perceptions and teaching abilities, as well as demographic factors. Each paragraph presents a distinct idea, making it easier to follow the flow of information. The language is mostly clear, though some technical terms could be simplified further for broader accessibility. Overall, the structure supports comprehension and maintains a natural tone.\n",
    "\n",
    "\n",
    "\n",
    "\n",
    "📊 Evaluation Results:\n",
    "----------------------\n",
    "\n",
    "🌟 Overall Score: 0.815\n",
    "\n",
    "### Focus Relevance Analysis (score=0.90, weight=0.25)\n",
    "The restructured text maintains a strong focus on the original study's findings regarding faculty perceptions of online teaching competencies. It effectively summarizes the key points, including the relationship between perceived importance and ability, the specific competencies rated by faculty, and the demographic factors analyzed. The output avoids unnecessary filler and remains relevant to the original content, presenting the data in a clear and organized manner. However, it could be argued that some details, such as specific mean values for all items, were omitted, which might slightly detract from the completeness of the information. Overall, the rewrite stays focused and relevant to the original message.\n",
    "\n",
    "### Meaning Analysis (score=0.90, weight=0.25)\n",
    "The restructured text preserves the essential meaning of the original input text quite well. Key ideas, such as the relationship between faculty perceptions of online teaching competencies and their self-reported abilities, are maintained. The specific competencies and their ratings are accurately reflected, including the highest-rated items in each category. The mention of the need for additional support in course design and communication competencies is also preserved.\n",
    "\n",
    "However, there are minor changes in phrasing and structure that could be seen as a slight loss of detail. For example, the original text included specific references to tables and pages, which are not explicitly mentioned in the output. Additionally, the output text condenses some of the information, which may lead to a loss of nuance in the detailed analysis of demographic factors. Despite these minor changes, the overall meaning and findings of the study remain intact.\n",
    "\n",
    "Overall, the changes made are acceptable as they do not distort the overall meaning, and the essential findings and relationships are clearly communicated.\n",
    "\n",
    "### Readability Analysis (score=0.65, weight=0.1)\n",
    "The text is moderately easy to read, but it contains several complex elements that may hinder comprehension for some readers. The sentences are generally clear, but the use of statistical data and technical terms (e.g., \"descriptive statistics,\" \"statistical significance\") may be challenging for those not familiar with research methodologies. The organization of the paragraphs is logical, as they follow a clear structure that outlines the study's findings and questions. However, the flow could be improved by simplifying some of the language and breaking down complex ideas into more digestible parts. Overall, while the text is informative and well-structured, the presence of technical jargon and dense information may make it less accessible to a broader audience.\n",
    "\n",
    "### Structure Analysis (score=0.75, weight=0.4)\n",
    "The text is structured in a logical manner, with a clear title that reflects the study's focus. The introduction effectively summarizes the main idea of the research, outlining the key competencies being investigated. The body of the text is divided into distinct sections that address specific questions related to the study, making it easier for readers to follow the findings. Each paragraph focuses on a single aspect of the research, such as the relationship between perceptions and teaching abilities, the demographic factors, and the statistical analysis. However, the language could be simplified further to enhance readability, and some sentences are quite dense, which may hinder understanding for some readers. Overall, the structure is solid, but there is room for improvement in clarity and accessibility.\n",
    "\n",
    "\n",
    "\n",
    "\n",
    "\n",
    "📊 Evaluation Results:\n",
    "----------------------\n",
    "\n",
    "🌟 Overall Score: 0.838\n",
    "\n",
    "### Focus Relevance Analysis (score=1.00, weight=0.25)\n",
    "The restructured text maintains a strong focus on the original study's findings regarding faculty perceptions of online teaching competencies. It effectively summarizes the key points, including the relationship between perceived importance and self-reported ability, as well as the demographic factors analyzed. The output avoids unnecessary filler and remains relevant to the original content, clearly presenting the statistical results and their implications. Overall, it captures the essence of the original text without drifting off-topic or introducing unrelated information.\n",
    "\n",
    "### Meaning Analysis (score=0.85, weight=0.25)\n",
    "The output text effectively preserves the essential meaning of the original input text. Key ideas, such as the relationship between faculty perceptions of online teaching competencies and their self-reported abilities, are maintained. The specific competencies and their ratings are accurately reflected, including the highest-rated items in each category. The mention of the weak positive relationship between perceived importance and ability is also preserved. \n",
    "\n",
    "However, some details, such as the specific mention of the statistical analysis (ANOVA results) regarding demographic factors, are less detailed in the output. While the output summarizes the findings well, it omits some of the nuances present in the original text, such as the specific ratings for time management and technical competency items. \n",
    "\n",
    "Overall, the changes made in the output text are acceptable as they do not distort the overall meaning, and the main findings are clearly communicated.\n",
    "\n",
    "### Readability Analysis (score=0.75, weight=0.1)\n",
    "The text is generally clear and well-structured, making it relatively easy to read. The sentences are mostly straightforward, with a logical flow from one idea to the next. The use of headings helps to organize the content, allowing readers to follow the study's progression easily. However, the text includes some technical terms and statistical data that may be challenging for readers unfamiliar with research methodologies or educational jargon. While the vocabulary is mostly accessible, the presence of specific metrics and statistical references could hinder comprehension for a general audience. Overall, the text is informative and coherent, but the complexity of some elements may affect readability for non-specialists.\n",
    "\n",
    "### Structure Analysis (score=0.75, weight=0.4)\n",
    "The text is structured in a logical manner, with a clear title that indicates the focus of the study. The introduction effectively summarizes the main idea, outlining the relationship between faculty perceptions of online teaching competencies and their self-reported abilities. The body of the text is divided into distinct sections that address specific research questions, making it easy to follow. Each paragraph focuses on a single aspect of the study, such as the findings related to competencies and the demographic factors analyzed. However, the language could be simplified further to enhance readability, and some sentences are quite dense, which may hinder understanding for some readers. Overall, the organization is good, but there is room for improvement in clarity and simplicity."
   ]
  },
  {
   "cell_type": "code",
   "execution_count": 18,
   "metadata": {},
   "outputs": [
    {
     "name": "stdout",
     "output_type": "stream",
     "text": [
      "🔍 Summary of Differences:\n",
      "1. **Organization and Structure**: The restructured text uses headings and subheadings to categorize information, making it easier to follow compared to the original, which is presented in a continuous narrative format.\n",
      "2. **Emphasis on Findings**: The restructured version highlights the implications of the findings, particularly the need for faculty support in course design and communication, whereas the original text presents findings more descriptively without emphasizing their significance.\n",
      "3. **Condensation of Statistical Details**: The restructured text summarizes statistical findings more succinctly, focusing on key results rather than detailing every rating, which is more prevalent in the original.\n",
      "4. **Clarity and Readability**: The restructured text improves clarity and readability by breaking down complex information into digestible sections, while the original text may overwhelm readers with dense information.\n"
     ]
    }
   ],
   "source": [
    "from promptsmith.tasks.restructure_delta import RestructureDelta\n",
    "\n",
    "summarize_differences = dspy.ChainOfThought(RestructureDelta)\n",
    "result = summarize_differences(input_text=text_to_restructure, output_text=restructured_text.output_text)\n",
    "\n",
    "print(\"🔍 Summary of Differences:\")\n",
    "print(result.summary_of_differences)"
   ]
  }
 ],
 "metadata": {
  "kernelspec": {
   "display_name": "venv",
   "language": "python",
   "name": "python3"
  },
  "language_info": {
   "codemirror_mode": {
    "name": "ipython",
    "version": 3
   },
   "file_extension": ".py",
   "mimetype": "text/x-python",
   "name": "python",
   "nbconvert_exporter": "python",
   "pygments_lexer": "ipython3",
   "version": "3.9.6"
  }
 },
 "nbformat": 4,
 "nbformat_minor": 2
}
