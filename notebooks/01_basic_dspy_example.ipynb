{
 "cells": [
  {
   "cell_type": "markdown",
   "metadata": {},
   "source": [
    "## Setting up DSPy"
   ]
  },
  {
   "cell_type": "code",
   "execution_count": 8,
   "metadata": {},
   "outputs": [],
   "source": [
    "from promptsmith.dspy_init import get_dspy\n",
    "dspy, lm = get_dspy()"
   ]
  },
  {
   "cell_type": "markdown",
   "metadata": {},
   "source": [
    "## Basic DSPy Usage Examples\n"
   ]
  },
  {
   "cell_type": "markdown",
   "metadata": {},
   "source": [
    "### Answering a question"
   ]
  },
  {
   "cell_type": "markdown",
   "metadata": {},
   "source": [
    "Here we create a `Predict` module with a `Signature` that maps a question to an answer"
   ]
  },
  {
   "cell_type": "code",
   "execution_count": 9,
   "metadata": {},
   "outputs": [
    {
     "name": "stdout",
     "output_type": "stream",
     "text": [
      "The capital of France is Paris.\n"
     ]
    }
   ],
   "source": [
    "answer_a_question = dspy.Predict(\"question -> answer\")\n",
    "result = answer_a_question(question=\"What is the capital of France?\")\n",
    "\n",
    "print(result.answer)"
   ]
  },
  {
   "cell_type": "markdown",
   "metadata": {},
   "source": [
    "When we make a DSPy Predict module like \"question -> answer\", DSPy adds extra fields to help organize how it talks to the language model.  \n",
    "The signature object has not just the input and output we chose, but also helpful info and instructions for the model.  \n",
    "\n",
    "This makes it easy for us to say what we want, while DSPy handles the details."
   ]
  },
  {
   "cell_type": "code",
   "execution_count": 10,
   "metadata": {},
   "outputs": [
    {
     "name": "stdout",
     "output_type": "stream",
     "text": [
      "StringSignature(question -> answer\n",
      "    instructions='Given the fields `question`, produce the fields `answer`.'\n",
      "    question = Field(annotation=str required=True json_schema_extra={'__dspy_field_type': 'input', 'prefix': 'Question:', 'desc': '${question}'})\n",
      "    answer = Field(annotation=str required=True json_schema_extra={'__dspy_field_type': 'output', 'prefix': 'Answer:', 'desc': '${answer}'})\n",
      ")\n"
     ]
    }
   ],
   "source": [
    "print(answer_a_question.signature)"
   ]
  },
  {
   "cell_type": "markdown",
   "metadata": {},
   "source": [
    "#### The actual prompt that was sent to the LLM"
   ]
  },
  {
   "cell_type": "markdown",
   "metadata": {},
   "source": [
    "When we use DSPy's Predict module, it makes a special prompt for the language model.  \n",
    "This prompt explains what to do with our input and how to write the answer.  \n",
    "It includes our question, some instructions, and rules for the answer’s format.  \n",
    "\n",
    "The next cell shows the exact prompt sent to the model:"
   ]
  },
  {
   "cell_type": "code",
   "execution_count": 11,
   "metadata": {},
   "outputs": [
    {
     "name": "stdout",
     "output_type": "stream",
     "text": [
      "\n",
      "\n",
      "\n",
      "\n",
      "\u001b[34m[2025-05-04T14:38:59.439428]\u001b[0m\n",
      "\n",
      "\u001b[31mSystem message:\u001b[0m\n",
      "\n",
      "Your input fields are:\n",
      "1. `question` (str)\n",
      "Your output fields are:\n",
      "1. `answer` (str)\n",
      "All interactions will be structured in the following way, with the appropriate values filled in.\n",
      "\n",
      "[[ ## question ## ]]\n",
      "{question}\n",
      "\n",
      "[[ ## answer ## ]]\n",
      "{answer}\n",
      "\n",
      "[[ ## completed ## ]]\n",
      "In adhering to this structure, your objective is: \n",
      "        Given the fields `question`, produce the fields `answer`.\n",
      "\n",
      "\n",
      "\u001b[31mUser message:\u001b[0m\n",
      "\n",
      "[[ ## question ## ]]\n",
      "What is the capital of France?\n",
      "\n",
      "Respond with the corresponding output fields, starting with the field `[[ ## answer ## ]]`, and then ending with the marker for `[[ ## completed ## ]]`.\n",
      "\n",
      "\n",
      "\u001b[31mResponse:\u001b[0m\n",
      "\n",
      "\u001b[32m[[ ## answer ## ]]\n",
      "The capital of France is Paris.\n",
      "\n",
      "[[ ## completed ## ]]\u001b[0m\n",
      "\n",
      "\n",
      "\n",
      "\n",
      "\n",
      "None\n"
     ]
    }
   ],
   "source": [
    "print(dspy.inspect_history(n=1))"
   ]
  },
  {
   "cell_type": "markdown",
   "metadata": {},
   "source": [
    "### Summerizing text"
   ]
  },
  {
   "cell_type": "code",
   "execution_count": 12,
   "metadata": {},
   "outputs": [
    {
     "name": "stdout",
     "output_type": "stream",
     "text": [
      "Input text:\n",
      "Bicycles are a popular mode of transportation around the world. They are affordable, environmentally friendly, and provide good exercise. Many cities are building bike lanes to support safer cycling.\n",
      "\n",
      "Generated summary:\n",
      "Bicycles are an affordable, eco-friendly transportation option that promotes exercise, leading many cities to create bike lanes for safer cycling.\n"
     ]
    }
   ],
   "source": [
    "summarize_text = dspy.Predict(\"text -> summary\")\n",
    "\n",
    "input_text = \"Bicycles are a popular mode of transportation around the world. They are affordable, environmentally friendly, and provide good exercise. Many cities are building bike lanes to support safer cycling.\"\n",
    "summary_result = summarize_text(text=input_text)\n",
    "\n",
    "print(f\"Input text:\\n{input_text}\")\n",
    "print(f\"\\nGenerated summary:\\n{summary_result.summary}\")"
   ]
  },
  {
   "cell_type": "markdown",
   "metadata": {},
   "source": [
    "### Extracting structured information from text"
   ]
  },
  {
   "cell_type": "code",
   "execution_count": 20,
   "metadata": {},
   "outputs": [
    {
     "name": "stdout",
     "output_type": "stream",
     "text": [
      "Original text:\n",
      "John Smith is a 32-year-old software engineer who enjoys hiking, photography, and playing the guitar. He has been working in the tech industry for over 8 years. Oh, and he's also a great cook.\n",
      "\n",
      "Extracted information:\n",
      "Name: John Smith\n",
      "Age: 32\n",
      "Occupation: Software Engineer\n",
      "Interests: Hiking, photography, playing the guitar, cooking\n"
     ]
    }
   ],
   "source": [
    "extract_info = dspy.Predict(\"text -> name, age, occupation, interests\")\n",
    "\n",
    "text = \"John Smith is a 32-year-old software engineer who enjoys hiking, photography, and playing the guitar. He has been working in the tech industry for over 8 years. Oh, and he's also a great cook.\"\n",
    "extracted_info = extract_info(text=text)\n",
    "\n",
    "print(\"Original text:\")\n",
    "print(text)\n",
    "print(\"\\nExtracted information:\")\n",
    "print(f\"Name: {extracted_info.name}\")\n",
    "print(f\"Age: {extracted_info.age}\")\n",
    "print(f\"Occupation: {extracted_info.occupation}\")\n",
    "print(f\"Interests: {extracted_info.interests}\")"
   ]
  }
 ],
 "metadata": {
  "kernelspec": {
   "display_name": "venv",
   "language": "python",
   "name": "python3"
  },
  "language_info": {
   "codemirror_mode": {
    "name": "ipython",
    "version": 3
   },
   "file_extension": ".py",
   "mimetype": "text/x-python",
   "name": "python",
   "nbconvert_exporter": "python",
   "pygments_lexer": "ipython3",
   "version": "3.9.6"
  }
 },
 "nbformat": 4,
 "nbformat_minor": 2
}
