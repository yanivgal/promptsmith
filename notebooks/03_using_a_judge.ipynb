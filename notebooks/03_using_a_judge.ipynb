{
 "cells": [
  {
   "cell_type": "code",
   "execution_count": 2,
   "metadata": {},
   "outputs": [],
   "source": [
    "from promptsmith.dspy_init import get_dspy\n",
    "dspy, lm = get_dspy()"
   ]
  },
  {
   "cell_type": "markdown",
   "metadata": {},
   "source": [
    "### judge meaning"
   ]
  },
  {
   "cell_type": "code",
   "execution_count": 3,
   "metadata": {},
   "outputs": [
    {
     "name": "stdout",
     "output_type": "stream",
     "text": [
      "Reasoning: The output text captures the general idea of going shopping and buying some items, but it omits several key details from the original text. Specifically, it does not mention that the shopping was for dinner ingredients, nor does it include the fact that the speaker forgot to buy cheese, which is a significant detail that affects the overall meaning. The phrase \"to get food\" is too vague compared to \"to buy ingredients for dinner,\" which specifies the purpose of the shopping trip. Therefore, while some elements are preserved, important details are lost, leading to a change in meaning.\n",
      "Score: 0.5\n"
     ]
    }
   ],
   "source": [
    "from promptsmith.judges.judge_meaning import JudgeMeaning\n",
    "\n",
    "judge_meaning = dspy.Predict(JudgeMeaning)\n",
    "\n",
    "input_text = (\n",
    "    \"Yesterday, I went to the grocery store to buy ingredients for dinner. \"\n",
    "    \"I ended up buying fruits, vegetables, and pasta. When I got home, I realized I forgot the cheese.\"\n",
    ")\n",
    "\n",
    "output_text = (\n",
    "    \"I went shopping yesterday to get food. I bought some fruits, vegetables, and pasta.\"\n",
    ")\n",
    "\n",
    "result = judge_meaning(input_text=input_text, output_text=output_text)\n",
    "\n",
    "print(\"Reasoning:\", result.reasoning)\n",
    "print(\"Score:\", result.score)"
   ]
  },
  {
   "cell_type": "markdown",
   "metadata": {},
   "source": [
    "### judge focus relevance"
   ]
  },
  {
   "cell_type": "code",
   "execution_count": 5,
   "metadata": {},
   "outputs": [
    {
     "name": "stdout",
     "output_type": "stream",
     "text": [
      "Reasoning: The restructured text deviates from the original message by introducing an unrelated statement about grocery store sales, which was not present in the original text. While it retains the main idea of shopping for food and lists some of the items purchased, the addition of generic information about sales distracts from the specific experience of forgetting cheese. This shift in focus reduces the relevance of the output to the original input.\n",
      "Score: 0.6\n"
     ]
    }
   ],
   "source": [
    "from promptsmith.judges.judge_focus_relevance import JudgeFocusRelevance\n",
    "\n",
    "judge_focus_relevance = dspy.Predict(JudgeFocusRelevance)\n",
    "\n",
    "input_text = (\n",
    "    \"Yesterday, I went to the grocery store to buy ingredients for dinner. \"\n",
    "    \"I ended up buying fruits, vegetables, and pasta. When I got home, I realized I forgot the cheese.\"\n",
    ")\n",
    "\n",
    "output_text = (\n",
    "    \"I went shopping yesterday to get food. I bought some fruits, vegetables, and pasta. \"\n",
    "    \"Grocery stores often have sales on weekends.\"\n",
    ")\n",
    "\n",
    "result = judge_focus_relevance(input_text=input_text, output_text=output_text)\n",
    "\n",
    "print(\"Reasoning:\", result.reasoning)\n",
    "print(\"Score:\", result.score)"
   ]
  }
 ],
 "metadata": {
  "kernelspec": {
   "display_name": "venv",
   "language": "python",
   "name": "python3"
  },
  "language_info": {
   "codemirror_mode": {
    "name": "ipython",
    "version": 3
   },
   "file_extension": ".py",
   "mimetype": "text/x-python",
   "name": "python",
   "nbconvert_exporter": "python",
   "pygments_lexer": "ipython3",
   "version": "3.9.6"
  }
 },
 "nbformat": 4,
 "nbformat_minor": 2
}
