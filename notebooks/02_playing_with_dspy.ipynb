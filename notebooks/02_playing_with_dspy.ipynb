{
 "cells": [
  {
   "cell_type": "markdown",
   "metadata": {},
   "source": [
    "### setting up dspy"
   ]
  },
  {
   "cell_type": "code",
   "execution_count": 2,
   "metadata": {},
   "outputs": [],
   "source": [
    "from promptsmith.dspy_init import get_dspy\n",
    "dspy, lm = get_dspy()"
   ]
  },
  {
   "cell_type": "markdown",
   "metadata": {},
   "source": [
    "### Chain of Thought"
   ]
  },
  {
   "cell_type": "code",
   "execution_count": 3,
   "metadata": {},
   "outputs": [
    {
     "name": "stdout",
     "output_type": "stream",
     "text": [
      "The two trains will meet at 5 PM.\n"
     ]
    }
   ],
   "source": [
    "# Define a module (ChainOfThought) and assign it a signature (return an answer, given a question).\n",
    "qa = dspy.ChainOfThought('question -> answer')\n",
    "response = qa(question=\"If a train leaves New York at 3 PM traveling 60 mph, and another leaves Boston at 4 PM traveling 80 mph towards New York, when will they meet?\")\n",
    "\n",
    "print(response.answer)"
   ]
  },
  {
   "cell_type": "code",
   "execution_count": 4,
   "metadata": {},
   "outputs": [
    {
     "name": "stdout",
     "output_type": "stream",
     "text": [
      "To determine when the two trains will meet, we first need to establish the distance between New York and Boston. For this problem, we can assume a distance of 200 miles between the two cities (a common approximation). \n",
      "\n",
      "The train from New York leaves at 3 PM traveling at 60 mph. By the time the train from Boston leaves at 4 PM, the New York train has already traveled for 1 hour, covering a distance of:\n",
      "Distance = Speed × Time = 60 mph × 1 hour = 60 miles.\n",
      "\n",
      "At 4 PM, the New York train is 60 miles away from New York, leaving 140 miles to Boston (200 miles - 60 miles).\n",
      "\n",
      "The Boston train leaves at 4 PM traveling at 80 mph. We can set up an equation to find the time it takes for both trains to meet after 4 PM. Let t be the time in hours after 4 PM when they meet.\n",
      "\n",
      "In that time, the New York train will travel:\n",
      "Distance = Speed × Time = 60 mph × t.\n",
      "\n",
      "The Boston train will travel:\n",
      "Distance = Speed × Time = 80 mph × t.\n",
      "\n",
      "Since they are moving towards each other, the sum of the distances they travel will equal the remaining distance between them:\n",
      "60t + 80t = 140.\n",
      "\n",
      "Combining the terms gives:\n",
      "140t = 140.\n",
      "\n",
      "Solving for t gives:\n",
      "t = 1 hour.\n",
      "\n",
      "Since the Boston train leaves at 4 PM, they will meet at:\n",
      "4 PM + 1 hour = 5 PM.\n"
     ]
    }
   ],
   "source": [
    "print(response.reasoning)"
   ]
  },
  {
   "cell_type": "markdown",
   "metadata": {},
   "source": [
    "### Access the last call to the LLM, with all metadata"
   ]
  },
  {
   "cell_type": "code",
   "execution_count": 5,
   "metadata": {},
   "outputs": [
    {
     "data": {
      "text/plain": [
       "1"
      ]
     },
     "execution_count": 5,
     "metadata": {},
     "output_type": "execute_result"
    }
   ],
   "source": [
    "len(lm.history)  # e.g., 3 calls to the LM"
   ]
  },
  {
   "cell_type": "code",
   "execution_count": 6,
   "metadata": {},
   "outputs": [
    {
     "data": {
      "text/plain": [
       "dict_keys(['prompt', 'messages', 'kwargs', 'response', 'outputs', 'usage', 'cost', 'timestamp', 'uuid', 'model', 'response_model', 'model_type'])"
      ]
     },
     "execution_count": 6,
     "metadata": {},
     "output_type": "execute_result"
    }
   ],
   "source": [
    "lm.history[-1].keys()"
   ]
  },
  {
   "cell_type": "code",
   "execution_count": 7,
   "metadata": {},
   "outputs": [
    {
     "name": "stdout",
     "output_type": "stream",
     "text": [
      "{ 'cost': 0.0002349,\n",
      "  'kwargs': {},\n",
      "  'messages': [ { 'content': 'Your input fields are:\\n'\n",
      "                             '1. `question` (str)\\n'\n",
      "                             'Your output fields are:\\n'\n",
      "                             '1. `reasoning` (str)\\n'\n",
      "                             '2. `answer` (str)\\n'\n",
      "                             'All interactions will be structured in the '\n",
      "                             'following way, with the appropriate values '\n",
      "                             'filled in.\\n'\n",
      "                             '\\n'\n",
      "                             '[[ ## question ## ]]\\n'\n",
      "                             '{question}\\n'\n",
      "                             '\\n'\n",
      "                             '[[ ## reasoning ## ]]\\n'\n",
      "                             '{reasoning}\\n'\n",
      "                             '\\n'\n",
      "                             '[[ ## answer ## ]]\\n'\n",
      "                             '{answer}\\n'\n",
      "                             '\\n'\n",
      "                             '[[ ## completed ## ]]\\n'\n",
      "                             'In adhering to this structure, your objective '\n",
      "                             'is: \\n'\n",
      "                             '        Given the fields `question`, produce the '\n",
      "                             'fields `answer`.',\n",
      "                  'role': 'system'},\n",
      "                { 'content': '[[ ## question ## ]]\\n'\n",
      "                             'If a train leaves New York at 3 PM traveling 60 '\n",
      "                             'mph, and another leaves Boston at 4 PM traveling '\n",
      "                             '80 mph towards New York, when will they meet?\\n'\n",
      "                             '\\n'\n",
      "                             'Respond with the corresponding output fields, '\n",
      "                             'starting with the field `[[ ## reasoning ## ]]`, '\n",
      "                             'then `[[ ## answer ## ]]`, and then ending with '\n",
      "                             'the marker for `[[ ## completed ## ]]`.',\n",
      "                  'role': 'user'}],\n",
      "  'model': 'openai/gpt-4o-mini',\n",
      "  'model_type': 'chat',\n",
      "  'outputs': [ '[[ ## reasoning ## ]]\\n'\n",
      "               'To determine when the two trains will meet, we first need to '\n",
      "               'establish the distance between New York and Boston. For this '\n",
      "               'problem, we can assume a distance of 200 miles between the two '\n",
      "               'cities (a common approximation). \\n'\n",
      "               '\\n'\n",
      "               'The train from New York leaves at 3 PM traveling at 60 mph. By '\n",
      "               'the time the train from Boston leaves at 4 PM, the New York '\n",
      "               'train has already traveled for 1 hour, covering a distance '\n",
      "               'of:\\n'\n",
      "               'Distance = Speed × Time = 60 mph × 1 hour = 60 miles.\\n'\n",
      "               '\\n'\n",
      "               'At 4 PM, the New York train is 60 miles away from New York, '\n",
      "               'leaving 140 miles to Boston (200 miles - 60 miles).\\n'\n",
      "               '\\n'\n",
      "               'The Boston train leaves at 4 PM traveling at 80 mph. We can '\n",
      "               'set up an equation to find the time it takes for both trains '\n",
      "               'to meet after 4 PM. Let t be the time in hours after 4 PM when '\n",
      "               'they meet.\\n'\n",
      "               '\\n'\n",
      "               'In that time, the New York train will travel:\\n'\n",
      "               'Distance = Speed × Time = 60 mph × t.\\n'\n",
      "               '\\n'\n",
      "               'The Boston train will travel:\\n'\n",
      "               'Distance = Speed × Time = 80 mph × t.\\n'\n",
      "               '\\n'\n",
      "               'Since they are moving towards each other, the sum of the '\n",
      "               'distances they travel will equal the remaining distance '\n",
      "               'between them:\\n'\n",
      "               '60t + 80t = 140.\\n'\n",
      "               '\\n'\n",
      "               'Combining the terms gives:\\n'\n",
      "               '140t = 140.\\n'\n",
      "               '\\n'\n",
      "               'Solving for t gives:\\n'\n",
      "               't = 1 hour.\\n'\n",
      "               '\\n'\n",
      "               'Since the Boston train leaves at 4 PM, they will meet at:\\n'\n",
      "               '4 PM + 1 hour = 5 PM.\\n'\n",
      "               '\\n'\n",
      "               '[[ ## answer ## ]]\\n'\n",
      "               'The two trains will meet at 5 PM.\\n'\n",
      "               '\\n'\n",
      "               '[[ ## completed ## ]]'],\n",
      "  'prompt': None,\n",
      "  'response': ModelResponse(id='chatcmpl-BTlxS1mNd0t2P93QXaiimwOjVgNZx', created=1746435562, model='gpt-4o-mini-2024-07-18', object='chat.completion', system_fingerprint='fp_dbaca60df0', choices=[Choices(finish_reason='stop', index=0, message=Message(content='[[ ## reasoning ## ]]\\nTo determine when the two trains will meet, we first need to establish the distance between New York and Boston. For this problem, we can assume a distance of 200 miles between the two cities (a common approximation). \\n\\nThe train from New York leaves at 3 PM traveling at 60 mph. By the time the train from Boston leaves at 4 PM, the New York train has already traveled for 1 hour, covering a distance of:\\nDistance = Speed × Time = 60 mph × 1 hour = 60 miles.\\n\\nAt 4 PM, the New York train is 60 miles away from New York, leaving 140 miles to Boston (200 miles - 60 miles).\\n\\nThe Boston train leaves at 4 PM traveling at 80 mph. We can set up an equation to find the time it takes for both trains to meet after 4 PM. Let t be the time in hours after 4 PM when they meet.\\n\\nIn that time, the New York train will travel:\\nDistance = Speed × Time = 60 mph × t.\\n\\nThe Boston train will travel:\\nDistance = Speed × Time = 80 mph × t.\\n\\nSince they are moving towards each other, the sum of the distances they travel will equal the remaining distance between them:\\n60t + 80t = 140.\\n\\nCombining the terms gives:\\n140t = 140.\\n\\nSolving for t gives:\\nt = 1 hour.\\n\\nSince the Boston train leaves at 4 PM, they will meet at:\\n4 PM + 1 hour = 5 PM.\\n\\n[[ ## answer ## ]]\\nThe two trains will meet at 5 PM.\\n\\n[[ ## completed ## ]]', role='assistant', tool_calls=None, function_call=None, provider_specific_fields={'refusal': None}, annotations=[]))], usage=Usage(completion_tokens=342, prompt_tokens=198, total_tokens=540, completion_tokens_details=CompletionTokensDetailsWrapper(accepted_prediction_tokens=0, audio_tokens=0, reasoning_tokens=0, rejected_prediction_tokens=0, text_tokens=None), prompt_tokens_details=PromptTokensDetailsWrapper(audio_tokens=0, cached_tokens=0, text_tokens=None, image_tokens=None)), service_tier='default', cache_hit=None),\n",
      "  'response_model': 'gpt-4o-mini-2024-07-18',\n",
      "  'timestamp': '2025-05-05T11:59:31.111831',\n",
      "  'usage': { 'completion_tokens': 342,\n",
      "             'completion_tokens_details': CompletionTokensDetailsWrapper(accepted_prediction_tokens=0, audio_tokens=0, reasoning_tokens=0, rejected_prediction_tokens=0, text_tokens=None),\n",
      "             'prompt_tokens': 198,\n",
      "             'prompt_tokens_details': PromptTokensDetailsWrapper(audio_tokens=0, cached_tokens=0, text_tokens=None, image_tokens=None),\n",
      "             'total_tokens': 540},\n",
      "  'uuid': '5d627542-69a1-4843-9c10-078bc5b8495e'}\n"
     ]
    }
   ],
   "source": [
    "import pprint\n",
    "pp = pprint.PrettyPrinter(indent=2)\n",
    "pp.pprint(lm.history[-1])"
   ]
  },
  {
   "cell_type": "markdown",
   "metadata": {},
   "source": [
    "### Request Multiple Variations"
   ]
  },
  {
   "cell_type": "code",
   "execution_count": 8,
   "metadata": {},
   "outputs": [],
   "source": [
    "question = \"What's something great about the ColBERT retrieval model?\"\n",
    "\n",
    "answer_a_question = dspy.ChainOfThought('question -> answer', n=5)\n",
    "\n",
    "response = answer_a_question(question=question)"
   ]
  },
  {
   "cell_type": "code",
   "execution_count": 9,
   "metadata": {},
   "outputs": [
    {
     "data": {
      "text/plain": [
       "['One great aspect of the ColBERT retrieval model is its ability to efficiently combine dense and sparse retrieval methods, allowing for fast and effective retrieval of relevant documents while maintaining low computational costs.',\n",
       " 'One great aspect of the ColBERT retrieval model is its ability to efficiently combine dense and sparse retrieval techniques, enabling fast and accurate document ranking while maintaining semantic richness.',\n",
       " 'One great aspect of the ColBERT retrieval model is its late interaction mechanism, which allows for efficient and scalable retrieval while maintaining high-quality results by combining dense and sparse representations.',\n",
       " \"One great aspect of the ColBERT retrieval model is its efficient late interaction mechanism, which allows it to leverage BERT's powerful contextual embeddings for effective information retrieval while maintaining scalability and speed in processing large document collections.\",\n",
       " 'One great aspect of the ColBERT retrieval model is its ability to efficiently combine dense and sparse retrieval techniques, allowing for quick retrieval of relevant documents while leveraging contextual embeddings for better scoring accuracy.']"
      ]
     },
     "execution_count": 9,
     "metadata": {},
     "output_type": "execute_result"
    }
   ],
   "source": [
    "response.completions.answer"
   ]
  },
  {
   "cell_type": "code",
   "execution_count": 10,
   "metadata": {},
   "outputs": [
    {
     "name": "stdout",
     "output_type": "stream",
     "text": [
      "Reasoning: The ColBERT retrieval model stands out due to its efficiency in combining the strengths of dense and sparse retrieval methods. It utilizes a two-tower architecture that allows for fast and effective retrieval of relevant documents by employing late interaction between the query and document representations. This approach enables it to leverage rich contextual embeddings while maintaining low computational costs, making it suitable for large-scale retrieval tasks. Additionally, it effectively balances relevance and efficiency, which is crucial for real-time applications.\n",
      "Answer: One great aspect of the ColBERT retrieval model is its ability to efficiently combine dense and sparse retrieval methods, allowing for fast and effective retrieval of relevant documents while maintaining low computational costs.\n"
     ]
    }
   ],
   "source": [
    "print(f\"Reasoning: {response.reasoning}\")\n",
    "print(f\"Answer: {response.answer}\")"
   ]
  },
  {
   "cell_type": "markdown",
   "metadata": {},
   "source": [
    "### Check LLM Usage"
   ]
  },
  {
   "cell_type": "code",
   "execution_count": 11,
   "metadata": {},
   "outputs": [
    {
     "data": {
      "text/plain": [
       "{'openai/gpt-4o-mini': {'completion_tokens': 820,\n",
       "  'prompt_tokens': 173,\n",
       "  'total_tokens': 993,\n",
       "  'completion_tokens_details': {'accepted_prediction_tokens': 0,\n",
       "   'audio_tokens': 0,\n",
       "   'reasoning_tokens': 0,\n",
       "   'rejected_prediction_tokens': 0,\n",
       "   'text_tokens': None},\n",
       "  'prompt_tokens_details': {'audio_tokens': 0,\n",
       "   'cached_tokens': 0,\n",
       "   'text_tokens': None,\n",
       "   'image_tokens': None}}}"
      ]
     },
     "execution_count": 11,
     "metadata": {},
     "output_type": "execute_result"
    }
   ],
   "source": [
    "response.get_lm_usage()\n"
   ]
  },
  {
   "cell_type": "markdown",
   "metadata": {},
   "source": [
    "### Cool Example"
   ]
  },
  {
   "cell_type": "code",
   "execution_count": 12,
   "metadata": {},
   "outputs": [
    {
     "name": "stdout",
     "output_type": "stream",
     "text": [
      "a mix of relief and disappointment\n",
      "The person likely feels relief from finally being outside after being in a dark room for a long time, which suggests a desire for fresh air and light. However, the disappointment comes from the fact that it is raining outside, which may dampen their experience and prevent them from fully enjoying being outdoors.\n"
     ]
    }
   ],
   "source": [
    "feeling_analyzer = dspy.Predict('sentence, situation -> the_actual_feeling_of_the_person_in_the_sentence: str, reasoning: str')\n",
    "\n",
    "sentence=\"i went outside after a long time being in a dark room\"\n",
    "situation=\"it's raining outside\"\n",
    "response = feeling_analyzer(sentence=sentence, situation=situation)\n",
    "\n",
    "print(response.the_actual_feeling_of_the_person_in_the_sentence)\n",
    "print(response.reasoning)"
   ]
  }
 ],
 "metadata": {
  "kernelspec": {
   "display_name": "venv",
   "language": "python",
   "name": "python3"
  },
  "language_info": {
   "codemirror_mode": {
    "name": "ipython",
    "version": 3
   },
   "file_extension": ".py",
   "mimetype": "text/x-python",
   "name": "python",
   "nbconvert_exporter": "python",
   "pygments_lexer": "ipython3",
   "version": "3.9.6"
  }
 },
 "nbformat": 4,
 "nbformat_minor": 2
}
