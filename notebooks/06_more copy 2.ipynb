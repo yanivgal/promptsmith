{
 "cells": [
  {
   "cell_type": "code",
   "execution_count": 1,
   "metadata": {},
   "outputs": [
    {
     "name": "stderr",
     "output_type": "stream",
     "text": [
      "/Users/yanivgal/dev/ai21/promptsmith/venv/lib/python3.9/site-packages/urllib3/__init__.py:35: NotOpenSSLWarning: urllib3 v2 only supports OpenSSL 1.1.1+, currently the 'ssl' module is compiled with 'LibreSSL 2.8.3'. See: https://github.com/urllib3/urllib3/issues/3020\n",
      "  warnings.warn(\n"
     ]
    }
   ],
   "source": [
    "from promptsmith.dspy_init import get_dspy\n",
    "dspy, lm = get_dspy()"
   ]
  },
  {
   "cell_type": "code",
   "execution_count": 2,
   "metadata": {},
   "outputs": [],
   "source": [
    "from promptsmith.tasks.restructure_text import RestructureText\n",
    "\n",
    "text_to_restructure = \"\"\"\n",
    "In our teaching we often deal with sales executives. By far the most common problem they report is that their sales forces maximize sales rather than profits. We ask them what incentives they give their salespeople, and they confess to actually rewarding sales rather than profits. The lesson is clear: When employees behave in undesirable ways, it’s a good idea to look at what you’re encouraging them to do. Consider what happened at Sears, Roebuck in the 1990s, when management gave automotive mechanics a sales goal of $147 an hour—presumably to increase the speed of repairs. Rather than work faster, however, employees met the goal by overcharging for their services and “repairing” things that weren’t broken.\n",
    "Sears is certainly not unique. The pressure at accounting, consulting, and law firms to maximize billable hours creates similarly perverse incentives. Employees engage in unnecessary and expensive projects and creative bookkeeping to reach their goals. Many law firms, increasingly aware that goals are driving some unethical billing practices, have made billing more transparent to encourage honest reporting. Of course, this requires a detailed allotment of time spent, so some firms have assigned codes to hundreds of specific activities. What is the effect? Deciding where in a multitude of categories an activity falls and assigning a precise number of minutes to it involves some guesswork—which becomes a component of the billable hour. Research shows that as the uncertainty involved in completing a task increases, the guesswork becomes more unconsciously self-serving. Even without an intention to pad hours, overbilling is the outcome. A system designed to promote ethical behavior backfires.\n",
    "Part of the managerial challenge is that employees and organizations require goals in order to excel. Indeed,  among  the  best-replicated  results  in  research on managerial behavior is that providing specific, moderately difficult goals is more effective than vague exhortations to “do your best.” But research also shows that rewarding employees for achieving narrow goals such as exact production quantities may encourage them to neglect other areas, take undesirable “ends justify the means” risks, or—most important from our perspective—engage in more unethical behavior than they would otherwise.\n",
    "Leaders setting goals should take the perspective of those whose behavior they are trying to influence and think through their potential responses. This will help head off unintended consequences and prevent employees from overlooking alternative goals, such as honest reporting, that are just as important to reward if not more so. When leaders fail to meet this responsibility, they can be viewed as not only promoting unethical behavior but blindly engaging in it themselves.\n",
    "\"\"\"\n",
    "\n",
    "restructure = dspy.ChainOfThought(RestructureText)\n",
    "restructured_text = restructure(input_text=text_to_restructure)"
   ]
  },
  {
   "cell_type": "code",
   "execution_count": 3,
   "metadata": {},
   "outputs": [
    {
     "name": "stdout",
     "output_type": "stream",
     "text": [
      "📝 Original Text:\n",
      "----------------------\n",
      "\n",
      "In our teaching we often deal with sales executives. By far the most common problem they report is that their sales forces maximize sales rather than profits. We ask them what incentives they give their salespeople, and they confess to actually rewarding sales rather than profits. The lesson is clear: When employees behave in undesirable ways, it’s a good idea to look at what you’re encouraging them to do. Consider what happened at Sears, Roebuck in the 1990s, when management gave automotive mechanics a sales goal of $147 an hour—presumably to increase the speed of repairs. Rather than work faster, however, employees met the goal by overcharging for their services and “repairing” things that weren’t broken.\n",
      "Sears is certainly not unique. The pressure at accounting, consulting, and law firms to maximize billable hours creates similarly perverse incentives. Employees engage in unnecessary and expensive projects and creative bookkeeping to reach their goals. Many law firms, increasingly aware that goals are driving some unethical billing practices, have made billing more transparent to encourage honest reporting. Of course, this requires a detailed allotment of time spent, so some firms have assigned codes to hundreds of specific activities. What is the effect? Deciding where in a multitude of categories an activity falls and assigning a precise number of minutes to it involves some guesswork—which becomes a component of the billable hour. Research shows that as the uncertainty involved in completing a task increases, the guesswork becomes more unconsciously self-serving. Even without an intention to pad hours, overbilling is the outcome. A system designed to promote ethical behavior backfires.\n",
      "Part of the managerial challenge is that employees and organizations require goals in order to excel. Indeed,  among  the  best-replicated  results  in  research on managerial behavior is that providing specific, moderately difficult goals is more effective than vague exhortations to “do your best.” But research also shows that rewarding employees for achieving narrow goals such as exact production quantities may encourage them to neglect other areas, take undesirable “ends justify the means” risks, or—most important from our perspective—engage in more unethical behavior than they would otherwise.\n",
      "Leaders setting goals should take the perspective of those whose behavior they are trying to influence and think through their potential responses. This will help head off unintended consequences and prevent employees from overlooking alternative goals, such as honest reporting, that are just as important to reward if not more so. When leaders fail to meet this responsibility, they can be viewed as not only promoting unethical behavior but blindly engaging in it themselves.\n",
      "\n",
      "----------------------\n",
      "\n",
      "\n",
      "📘 Restructured Text:\n",
      "----------------------\n",
      "# The Impact of Incentives on Employee Behavior\n",
      "\n",
      "In many organizations, sales executives often face a significant challenge: their sales teams tend to prioritize maximizing sales over generating profits. This issue frequently arises from the incentives that companies provide to their salespeople, which often reward sales figures rather than profit margins. The lesson here is clear: when employees engage in undesirable behaviors, it is essential to examine the incentives that encourage such actions.\n",
      "\n",
      "A notable example of this can be seen at Sears, Roebuck in the 1990s. Management set a sales goal for automotive mechanics at $147 an hour, intending to increase the speed of repairs. However, instead of working faster, employees met this target by overcharging customers and \"repairing\" items that were not actually broken. This situation highlights how misaligned incentives can lead to unintended consequences.\n",
      "\n",
      "Sears is not alone in this regard. Many accounting, consulting, and law firms face similar pressures to maximize billable hours, which can create perverse incentives. Employees may engage in unnecessary projects or manipulate their time records to meet their goals. In response to unethical billing practices, some law firms have made their billing processes more transparent. This often involves assigning codes to numerous specific activities, but it can lead to guesswork in categorizing tasks and estimating time spent. Research indicates that as uncertainty increases, this guesswork can become self-serving, resulting in overbilling even without malicious intent.\n",
      "\n",
      "A key challenge for managers is that employees and organizations need goals to thrive. Research shows that setting specific, moderately difficult goals is more effective than vague encouragements to \"do your best.\" However, focusing too narrowly on specific targets, such as production quantities, can lead employees to overlook other important areas, take unnecessary risks, or engage in unethical behavior.\n",
      "\n",
      "To avoid these pitfalls, leaders should consider the perspectives of the employees whose behavior they aim to influence. By anticipating potential responses to set goals, they can prevent unintended consequences and ensure that employees do not neglect other critical objectives, such as honest reporting. When leaders fail to recognize this responsibility, they risk not only promoting unethical behavior but also becoming complicit in it.\n",
      "----------------------\n"
     ]
    }
   ],
   "source": [
    "print(\"📝 Original Text:\")\n",
    "print(\"----------------------\")\n",
    "print(text_to_restructure)\n",
    "print(\"----------------------\")\n",
    "\n",
    "print(\"\\n\\n📘 Restructured Text:\")\n",
    "print(\"----------------------\")\n",
    "print(restructured_text.output_text)\n",
    "print(\"----------------------\")"
   ]
  },
  {
   "cell_type": "code",
   "execution_count": 4,
   "metadata": {},
   "outputs": [],
   "source": [
    "from promptsmith.judges.ensemble_judge import EnsembleJudge\n",
    "import os\n",
    "\n",
    "judge_path = os.path.abspath(\"../promptsmith/judges/judge_restructure_text.yaml\")\n",
    "\n",
    "judge = EnsembleJudge(judge_path)\n",
    "verdict = judge(input_text=text_to_restructure, output_text=restructured_text.output_text)"
   ]
  },
  {
   "cell_type": "code",
   "execution_count": 5,
   "metadata": {},
   "outputs": [
    {
     "name": "stdout",
     "output_type": "stream",
     "text": [
      "\n",
      "📊 Evaluation Results:\n",
      "----------------------\n",
      "\n",
      "🌟 Overall Score: 0.895\n",
      "\n",
      "### Focus Relevance Analysis (score=1.00, weight=0.25)\n",
      "The restructured text maintains a strong focus on the original message regarding the impact of incentives on employee behavior, particularly in sales and professional services. It effectively summarizes the key points, such as the misalignment of incentives leading to unethical behavior, using the Sears example and the issues faced by law firms. The output text avoids introducing unrelated content and remains relevant throughout, addressing the consequences of poorly designed incentives and the importance of considering employee perspectives when setting goals. Overall, it captures the essence of the original text without drifting off-topic or including generic filler.\n",
      "\n",
      "### Meaning Analysis (score=0.90, weight=0.25)\n",
      "The output text preserves the essential meaning of the original input text while rephrasing and restructuring the content. Key ideas, such as the misalignment of incentives leading to undesirable employee behavior, the example of Sears, and the broader implications for various industries, are all retained. The explanation of how specific goals can lead to unethical behavior is also maintained. \n",
      "\n",
      "However, some nuances and details from the original text are slightly altered or omitted. For instance, the original text emphasizes the \"guesswork\" involved in billing practices more explicitly, while the output text generalizes this point. Additionally, the phrase \"ends justify the means\" is paraphrased, which may slightly change the emphasis. Despite these minor changes, the overall message remains intact, and the restructured text effectively communicates the original ideas.\n",
      "\n",
      "Overall, the changes made in the output text are acceptable as they do not distort the overall meaning, and the key points are still clearly conveyed.\n",
      "\n",
      "### Readability Analysis (score=0.80, weight=0.1)\n",
      "The text is generally clear and well-structured, making it relatively easy to read. The sentences are mostly straightforward, with a logical flow from one idea to the next. The use of examples, such as the case of Sears, helps to illustrate the points being made, which aids comprehension. However, some sentences are slightly complex and could benefit from simplification to enhance readability further. The vocabulary is accessible, avoiding overly technical jargon, which makes it suitable for a broad audience. Overall, the organization of paragraphs is coherent, and the text effectively communicates its message.\n",
      "\n",
      "### Structure Analysis (score=0.85, weight=0.4)\n",
      "The text is well-structured and organized, beginning with a clear and relevant title that sets the stage for the discussion on incentives and employee behavior. The introductory paragraph effectively summarizes the main issue, providing context for the examples that follow. Each paragraph presents a coherent idea, with the first example of Sears illustrating the consequences of misaligned incentives, followed by a broader discussion of similar issues in other industries. The flow of information is logical, moving from specific examples to general principles and concluding with actionable insights for leaders. However, the text could benefit from clearer transitions between some paragraphs to enhance the overall coherence. Overall, the structure supports the main argument effectively.\n",
      "\n"
     ]
    }
   ],
   "source": [
    "from helpers import display_verdict\n",
    "display_verdict(verdict)"
   ]
  }
 ],
 "metadata": {
  "kernelspec": {
   "display_name": "venv",
   "language": "python",
   "name": "python3"
  },
  "language_info": {
   "codemirror_mode": {
    "name": "ipython",
    "version": 3
   },
   "file_extension": ".py",
   "mimetype": "text/x-python",
   "name": "python",
   "nbconvert_exporter": "python",
   "pygments_lexer": "ipython3",
   "version": "3.9.6"
  }
 },
 "nbformat": 4,
 "nbformat_minor": 2
}
