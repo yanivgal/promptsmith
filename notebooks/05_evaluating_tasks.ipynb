{
 "cells": [
  {
   "cell_type": "code",
   "execution_count": 7,
   "metadata": {},
   "outputs": [],
   "source": [
    "from promptsmith.dspy_init import get_dspy\n",
    "dspy, lm = get_dspy()"
   ]
  },
  {
   "cell_type": "markdown",
   "metadata": {},
   "source": [
    "### using the task - restructure text"
   ]
  },
  {
   "cell_type": "code",
   "execution_count": 8,
   "metadata": {},
   "outputs": [],
   "source": [
    "from promptsmith.tasks.restructure_text import RestructureText\n",
    "\n",
    "text_to_restructure = (\n",
    "    \"I was trying to fix the kitchen sink. At first, I thought it was a clog, but it turned out to be a broken pipe. \"\n",
    "    \"Water was everywhere, and I had no tools. I called my friend who had some plumbing experience, and he came over. \"\n",
    "    \"Together we shut off the water and replaced the pipe, which took us the entire afternoon.\"\n",
    ")\n",
    "\n",
    "restructure = dspy.ChainOfThought(RestructureText)\n",
    "restructured_text = restructure(input_text=text_to_restructure)"
   ]
  },
  {
   "cell_type": "code",
   "execution_count": 9,
   "metadata": {},
   "outputs": [
    {
     "name": "stdout",
     "output_type": "stream",
     "text": [
      "📝 Original Text:\n",
      "----------------------\n",
      "I was trying to fix the kitchen sink. At first, I thought it was a clog, but it turned out to be a broken pipe. Water was everywhere, and I had no tools. I called my friend who had some plumbing experience, and he came over. Together we shut off the water and replaced the pipe, which took us the entire afternoon.\n",
      "----------------------\n",
      "\n",
      "\n",
      "📘 Restructured Text:\n",
      "----------------------\n",
      "# Fixing the Kitchen Sink: A Plumbing Adventure\n",
      "\n",
      "Recently, I faced a challenge while trying to fix my kitchen sink. Initially, I suspected that a clog was the problem, but I soon discovered that the issue was actually a broken pipe.\n",
      "\n",
      "As I assessed the situation, I realized that water was leaking everywhere, and unfortunately, I didn't have any tools on hand to address the problem. In need of assistance, I reached out to a friend who had some plumbing experience.\n",
      "\n",
      "My friend quickly came over to help. Together, we worked to shut off the water supply and replaced the broken pipe. This task took us the entire afternoon, but we were relieved to finally resolve the issue.\n",
      "----------------------\n",
      "\n",
      "\n",
      "🧠 Reasoning:\n",
      "The original text describes a personal experience of fixing a kitchen sink, detailing the initial assumption of a clog, the discovery of a broken pipe, and the subsequent actions taken to resolve the issue. The restructured version will include a clear title, a brief introduction summarizing the situation, and organized paragraphs that break down the narrative into distinct ideas for better readability.\n"
     ]
    }
   ],
   "source": [
    "print(\"📝 Original Text:\")\n",
    "print(\"----------------------\")\n",
    "print(text_to_restructure)\n",
    "print(\"----------------------\")\n",
    "\n",
    "print(\"\\n\\n📘 Restructured Text:\")\n",
    "print(\"----------------------\")\n",
    "print(restructured_text.output_text)\n",
    "print(\"----------------------\")\n",
    "\n",
    "print(\"\\n\\n🧠 Reasoning:\")\n",
    "print(restructured_text.reasoning)"
   ]
  },
  {
   "cell_type": "code",
   "execution_count": 10,
   "metadata": {},
   "outputs": [
    {
     "name": "stdout",
     "output_type": "stream",
     "text": [
      "🤖 DSPy History:\n",
      "\n",
      "\n",
      "\n",
      "\n",
      "\u001b[34m[2025-05-05T12:00:39.708204]\u001b[0m\n",
      "\n",
      "\u001b[31mSystem message:\u001b[0m\n",
      "\n",
      "Your input fields are:\n",
      "1. `input_text` (str): The original long text.\n",
      "Your output fields are:\n",
      "1. `reasoning` (str)\n",
      "2. `output_text` (str): The restructured text with a title, intro, and clean paragraphs.\n",
      "All interactions will be structured in the following way, with the appropriate values filled in.\n",
      "\n",
      "[[ ## input_text ## ]]\n",
      "{input_text}\n",
      "\n",
      "[[ ## reasoning ## ]]\n",
      "{reasoning}\n",
      "\n",
      "[[ ## output_text ## ]]\n",
      "{output_text}\n",
      "\n",
      "[[ ## completed ## ]]\n",
      "In adhering to this structure, your objective is: \n",
      "        You are a text restructuring expert.\n",
      "        \n",
      "        Your job is to take long, dense text and rewrite it to make it easier to read and understand.\n",
      "        \n",
      "        Instructions:\n",
      "        1. Add a clear and informative title that reflects the topic.\n",
      "        2. Write a short intro paragraph summarizing the overall idea.\n",
      "        3. Break the rest of the text into logically organized paragraphs (one idea per paragraph).\n",
      "        4. Simplify the language where possible, but do not change the meaning.\n",
      "        5. Keep the tone natural and human.\n",
      "        \n",
      "        Do not invent new information. Stay faithful to the original content.\n",
      "        \n",
      "        Return only the restructured version, including the title at the top.\n",
      "\n",
      "\n",
      "\u001b[31mUser message:\u001b[0m\n",
      "\n",
      "[[ ## input_text ## ]]\n",
      "I was trying to fix the kitchen sink. At first, I thought it was a clog, but it turned out to be a broken pipe. Water was everywhere, and I had no tools. I called my friend who had some plumbing experience, and he came over. Together we shut off the water and replaced the pipe, which took us the entire afternoon.\n",
      "\n",
      "Respond with the corresponding output fields, starting with the field `[[ ## reasoning ## ]]`, then `[[ ## output_text ## ]]`, and then ending with the marker for `[[ ## completed ## ]]`.\n",
      "\n",
      "\n",
      "\u001b[31mResponse:\u001b[0m\n",
      "\n",
      "\u001b[32m[[ ## reasoning ## ]]\n",
      "The original text describes a personal experience of fixing a kitchen sink, detailing the initial assumption of a clog, the discovery of a broken pipe, and the subsequent actions taken to resolve the issue. The restructured version will include a clear title, a brief introduction summarizing the situation, and organized paragraphs that break down the narrative into distinct ideas for better readability.\n",
      "\n",
      "[[ ## output_text ## ]]\n",
      "# Fixing the Kitchen Sink: A Plumbing Adventure\n",
      "\n",
      "Recently, I faced a challenge while trying to fix my kitchen sink. Initially, I suspected that a clog was the problem, but I soon discovered that the issue was actually a broken pipe.\n",
      "\n",
      "As I assessed the situation, I realized that water was leaking everywhere, and unfortunately, I didn't have any tools on hand to address the problem. In need of assistance, I reached out to a friend who had some plumbing experience.\n",
      "\n",
      "My friend quickly came over to help. Together, we worked to shut off the water supply and replaced the broken pipe. This task took us the entire afternoon, but we were relieved to finally resolve the issue.\n",
      "\n",
      "[[ ## completed ## ]]\u001b[0m\n",
      "\n",
      "\n",
      "\n",
      "\n",
      "\n",
      "None\n"
     ]
    }
   ],
   "source": [
    "print(\"🤖 DSPy History:\")\n",
    "print(dspy.inspect_history(n=1))"
   ]
  },
  {
   "cell_type": "markdown",
   "metadata": {},
   "source": [
    "### evaluating the restructured text using ensemble judge"
   ]
  },
  {
   "cell_type": "code",
   "execution_count": 11,
   "metadata": {},
   "outputs": [],
   "source": [
    "from promptsmith.judges.ensemble_judge import EnsembleJudge\n",
    "import os\n",
    "\n",
    "judge_path = os.path.abspath(\"../promptsmith/judges/judge_restructure_text.yaml\")\n",
    "\n",
    "judge = EnsembleJudge(judge_path)\n",
    "verdict = judge(input_text=text_to_restructure, output_text=restructured_text.output_text)"
   ]
  },
  {
   "cell_type": "markdown",
   "metadata": {},
   "source": [
    "### showing the verdict"
   ]
  },
  {
   "cell_type": "code",
   "execution_count": 12,
   "metadata": {},
   "outputs": [
    {
     "name": "stdout",
     "output_type": "stream",
     "text": [
      "\n",
      "📊 Evaluation Results:\n",
      "----------------------\n",
      "\n",
      "🌟 Overall Score: 0.990\n",
      "\n",
      "### Focus Relevance Analysis (score=1.00, weight=0.25)\n",
      "The restructured text remains focused on the original message about fixing the kitchen sink. It accurately recounts the sequence of events, from suspecting a clog to discovering a broken pipe, and the subsequent actions taken to resolve the issue. The added details enhance the narrative without deviating from the main ideas. There are no unrelated or generic fillers; the content is relevant and directly tied to the plumbing experience described in the original text. Overall, the rewrite effectively captures the essence of the original while providing a clearer structure.\n",
      "\n",
      "### Meaning Analysis (score=1.00, weight=0.25)\n",
      "The restructured text preserves the essential meaning of the original input. All key ideas are present, including the initial assumption of a clog, the discovery of a broken pipe, the water leak, the lack of tools, and the involvement of a friend with plumbing experience. The sequence of events is maintained, and the overall narrative remains intact. Minor rephrasings, such as \"faced a challenge\" instead of \"trying to fix,\" and \"assessed the situation\" instead of \"thought,\" do not distort the meaning. The addition of a title and slight elaboration in the narrative style enhances readability without losing any critical details. Therefore, the changes are acceptable.\n",
      "\n",
      "### Readability Analysis (score=0.90, weight=0.1)\n",
      "The text is easy to read due to its clear structure and straightforward language. The sentences are simple and concise, making it easy for readers to follow the narrative. Each paragraph logically progresses from the initial problem to the resolution, maintaining a smooth flow of ideas. The vocabulary is accessible, avoiding complex terminology, which enhances readability. Overall, the text effectively communicates the plumbing adventure in a relatable manner.\n",
      "\n",
      "### Structure Analysis (score=1.00, weight=0.4)\n",
      "The text is well-structured and organized. It begins with a clear and relevant title that sets the context for the narrative. The introductory paragraph effectively summarizes the main issue faced by the author, providing a good lead into the story. The subsequent paragraphs are coherent and logically sequenced, detailing the progression from identifying the problem to seeking help and ultimately resolving the issue. Each paragraph focuses on a specific aspect of the experience, which enhances clarity and flow. Overall, the structure supports the narrative effectively, making it easy for the reader to follow along.\n",
      "\n"
     ]
    }
   ],
   "source": [
    "from helpers import display_verdict\n",
    "display_verdict(verdict)"
   ]
  }
 ],
 "metadata": {
  "kernelspec": {
   "display_name": "venv",
   "language": "python",
   "name": "python3"
  },
  "language_info": {
   "codemirror_mode": {
    "name": "ipython",
    "version": 3
   },
   "file_extension": ".py",
   "mimetype": "text/x-python",
   "name": "python",
   "nbconvert_exporter": "python",
   "pygments_lexer": "ipython3",
   "version": "3.9.6"
  }
 },
 "nbformat": 4,
 "nbformat_minor": 2
}
